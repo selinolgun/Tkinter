{
 "cells": [
  {
   "cell_type": "code",
   "execution_count": 2,
   "metadata": {},
   "outputs": [],
   "source": [
    "import tkinter as tk\n",
    "from tkinter.ttk import Combobox\n",
    "\n",
    "# Combo box'ı import ettik."
   ]
  },
  {
   "cell_type": "code",
   "execution_count": 3,
   "metadata": {},
   "outputs": [],
   "source": [
    "form = tk.Tk()\n",
    "form.title(\"Combo Box\")\n",
    "form.geometry(\"450x450\")\n",
    "\n",
    "kutu = Combobox(form, values= (\"1\", \"2\", \"3\"))\n",
    "kutu.pack()\n",
    "\n",
    "form.mainloop()\n",
    "\n",
    "# Combobox 'ımızı oluşturduk.\n",
    "# Çalıştırdığınızda görebilirsiniz. \n",
    "# Bize açılır bir pencere verdi bu pencerelerinde içinde values 'e atadığımız değerler var."
   ]
  },
  {
   "cell_type": "code",
   "execution_count": 4,
   "metadata": {},
   "outputs": [],
   "source": [
    "form = tk.Tk()\n",
    "form.title(\"Combo Box\")\n",
    "form.geometry(\"450x450\")\n",
    "\n",
    "python = [\"Numpy\", \"Pandas\", \"Matplotlib\", \"Seaborn\", \"Tkinter\"]\n",
    "\n",
    "kutu = Combobox(form, values= (\"1\", \"2\", \"3\"))\n",
    "kutu.pack()\n",
    "\n",
    "kutu2 = Combobox(form, values= (python))\n",
    "kutu2.pack()\n",
    "\n",
    "form.mainloop()\n",
    "\n",
    "# Bir liste olarak tanımlama yapıp yine values= parametresi içinde kullanabiliriz."
   ]
  },
  {
   "cell_type": "code",
   "execution_count": 11,
   "metadata": {},
   "outputs": [
    {
     "name": "stdout",
     "output_type": "stream",
     "text": [
      "Pandas\n",
      "Numpy\n",
      "Matplotlib\n",
      "PY_VAR1\n"
     ]
    }
   ],
   "source": [
    "form = tk.Tk()\n",
    "form.title(\"Combo Box\")\n",
    "form.geometry(\"450x450\")\n",
    "\n",
    "python = [\"Numpy\", \"Pandas\", \"Matplotlib\", \"Seaborn\", \"Tkinter\"]\n",
    "\n",
    "kutu = Combobox(form, values= (\"1\", \"2\", \"3\"))\n",
    "kutu.pack()\n",
    "\n",
    "x = tk.StringVar()\n",
    "\n",
    "kutu2 = Combobox(form, values= (python), height= 3, textvariable= x)\n",
    "kutu2.pack()\n",
    "\n",
    "def yazdır():\n",
    "    print(x.get())\n",
    "\n",
    "button = tk.Button(form, text= \"Yazdır\", command= yazdır)\n",
    "button.pack()\n",
    "\n",
    "form.mainloop()\n",
    "\n",
    "# height= parametresiyle açılan listede kaç tane değer görüneceğini belirliyoruz.\n",
    "# Kalan değerler scroll ile aşağıya kaydırdıkça karşımıza gelebiliyor."
   ]
  },
  {
   "cell_type": "code",
   "execution_count": null,
   "metadata": {},
   "outputs": [],
   "source": []
  }
 ],
 "metadata": {
  "kernelspec": {
   "display_name": "Python 3.11.0 64-bit",
   "language": "python",
   "name": "python3"
  },
  "language_info": {
   "codemirror_mode": {
    "name": "ipython",
    "version": 3
   },
   "file_extension": ".py",
   "mimetype": "text/x-python",
   "name": "python",
   "nbconvert_exporter": "python",
   "pygments_lexer": "ipython3",
   "version": "3.11.0"
  },
  "orig_nbformat": 4,
  "vscode": {
   "interpreter": {
    "hash": "7c542dbbc07e6010b76b61de8a453dc04d29cd1fae7fbaa29851ecbad9aefb83"
   }
  }
 },
 "nbformat": 4,
 "nbformat_minor": 2
}

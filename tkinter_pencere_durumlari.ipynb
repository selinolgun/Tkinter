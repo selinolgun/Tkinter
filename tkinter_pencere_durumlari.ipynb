{
 "cells": [
  {
   "cell_type": "code",
   "execution_count": 1,
   "metadata": {},
   "outputs": [],
   "source": [
    "import tkinter as tk"
   ]
  },
  {
   "cell_type": "code",
   "execution_count": 2,
   "metadata": {},
   "outputs": [],
   "source": [
    "form = tk.Tk()\n",
    "form.title(\"Pencere Durumları\")\n",
    "form.geometry(\"500x500+350+250\")\n",
    "form.mainloop()\n",
    "\n",
    "# Yine pratik olsun diye daha önce öğrendiklerimizle bir pencere oluşturduk."
   ]
  },
  {
   "cell_type": "code",
   "execution_count": 3,
   "metadata": {},
   "outputs": [],
   "source": [
    "form = tk.Tk()\n",
    "form.title(\"Pencere Durumları\")\n",
    "form.geometry(\"500x500+350+250\")\n",
    "form.state(\"normal\")\n",
    "form.mainloop()\n",
    "\n",
    "# state metodunda \"normal\" kullanırsak pencere açıldığında ekrana bizim belirttiğimiz boyutlarda açılır."
   ]
  },
  {
   "cell_type": "code",
   "execution_count": 5,
   "metadata": {},
   "outputs": [],
   "source": [
    "form = tk.Tk()\n",
    "form.title(\"Pencere Durumları\")\n",
    "form.geometry(\"500x500+350+250\")\n",
    "form.state(\"zoomed\")\n",
    "form.mainloop()\n",
    "\n",
    "# state metodunda \"zoomed\" kullanırsak pencere açıldığında ekrana tam ekran boyutlarda açılır.    "
   ]
  },
  {
   "cell_type": "code",
   "execution_count": 6,
   "metadata": {},
   "outputs": [],
   "source": [
    "form = tk.Tk()\n",
    "form.title(\"Pencere Durumları\")\n",
    "form.geometry(\"500x500+350+250\")\n",
    "form.state(\"iconic\")\n",
    "form.mainloop()\n",
    "\n",
    "# state metodunda \"iconic\" kullanırsak pencere açıldığında ekrana gelmez.\n",
    "# Alt kısımda icon olarak açılır.   "
   ]
  },
  {
   "cell_type": "code",
   "execution_count": 7,
   "metadata": {},
   "outputs": [],
   "source": [
    "form = tk.Tk()\n",
    "form.title(\"Pencere Durumları\")\n",
    "form.geometry(\"500x500+350+250\")\n",
    "form.state(\"normal\")\n",
    "form.wm_attributes(\"-alpha\", 0.3)\n",
    "form.mainloop()\n",
    "\n",
    "# wm_attributes metodu ile penceremizin saydamlığını belirleyebiliyoruz.\n",
    "# 0 ile 1 arasında değerler verebiliyoruz.\n",
    "# 1 verirsek tamamen katı olur.\n",
    "# 0 olursa görünmez derecede saydam olur."
   ]
  },
  {
   "cell_type": "code",
   "execution_count": null,
   "metadata": {},
   "outputs": [],
   "source": []
  }
 ],
 "metadata": {
  "kernelspec": {
   "display_name": "Python 3.11.0 64-bit",
   "language": "python",
   "name": "python3"
  },
  "language_info": {
   "codemirror_mode": {
    "name": "ipython",
    "version": 3
   },
   "file_extension": ".py",
   "mimetype": "text/x-python",
   "name": "python",
   "nbconvert_exporter": "python",
   "pygments_lexer": "ipython3",
   "version": "3.11.0"
  },
  "orig_nbformat": 4,
  "vscode": {
   "interpreter": {
    "hash": "7c542dbbc07e6010b76b61de8a453dc04d29cd1fae7fbaa29851ecbad9aefb83"
   }
  }
 },
 "nbformat": 4,
 "nbformat_minor": 2
}

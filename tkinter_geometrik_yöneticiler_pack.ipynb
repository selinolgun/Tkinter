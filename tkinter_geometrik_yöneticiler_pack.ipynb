{
 "cells": [
  {
   "cell_type": "code",
   "execution_count": 2,
   "metadata": {},
   "outputs": [],
   "source": [
    "import tkinter as tk"
   ]
  },
  {
   "cell_type": "code",
   "execution_count": 3,
   "metadata": {},
   "outputs": [],
   "source": [
    "form = tk.Tk()\n",
    "\n",
    "label = tk.Label(text= \"Geometrik Yöneticiler\")\n",
    "label.pack()\n",
    "\n",
    "button = tk.Button(text= \"Pack\")\n",
    "button.pack()\n",
    "\n",
    "form.mainloop()\n",
    "\n",
    "# pack metodunun içini doldurmadığımızda varsayılan olarak pencerenin orta ve en üstüne geliyorlar."
   ]
  },
  {
   "cell_type": "code",
   "execution_count": 4,
   "metadata": {},
   "outputs": [],
   "source": [
    "form = tk.Tk()\n",
    "form.geometry(\"500x500\")\n",
    "\n",
    "label = tk.Label(text= \"Geometrik Yöneticiler\")\n",
    "label.pack(side= tk.LEFT)\n",
    "\n",
    "button = tk.Button(text= \"Pack\")\n",
    "button.pack(side= tk.LEFT)\n",
    "\n",
    "form.mainloop()\n",
    "\n",
    "# pack içinde side parametresi kullanarak pencerenin üzerinde konumlandırma yapabiliyoruz."
   ]
  },
  {
   "cell_type": "code",
   "execution_count": 5,
   "metadata": {},
   "outputs": [],
   "source": [
    "form = tk.Tk()\n",
    "form.geometry(\"500x500\")\n",
    "\n",
    "label = tk.Label(text= \"Geometrik Yöneticiler\")\n",
    "label.pack(side= tk.RIGHT)\n",
    "\n",
    "button = tk.Button(text= \"Pack\")\n",
    "button.pack(side= tk.TOP)\n",
    "\n",
    "form.mainloop()\n",
    "\n",
    "# side 'a gelen farklı değerler ile konumlarını değiştirebiliriz.\n",
    "# Sizde deneyerek sonuçlarını görebilirsiniz.\n",
    "# BOTTOM 'ı göstermedim ancak o da kullanılabilir."
   ]
  },
  {
   "cell_type": "code",
   "execution_count": 6,
   "metadata": {},
   "outputs": [],
   "source": [
    "form = tk.Tk()\n",
    "form.geometry(\"500x500\")\n",
    "\n",
    "label = tk.Label(text= \"Geometrik Yöneticiler\")\n",
    "label.pack(side= tk.RIGHT)\n",
    "\n",
    "button = tk.Button(text= \"Pack\")\n",
    "button.pack(side= tk.TOP, fill= tk.X)\n",
    "\n",
    "form.mainloop()\n",
    "\n",
    "# side 'ın ikinci parametresi olan fill 'i kullandık.\n",
    "# Bu parametre X ve Y olmak üzere iki değer alıyor.\n",
    "# Adından da anlaşılacağı üzeri belirttiğimiz değere göre button 'umuzu dolduruyor."
   ]
  },
  {
   "cell_type": "code",
   "execution_count": 10,
   "metadata": {},
   "outputs": [],
   "source": [
    "form = tk.Tk()\n",
    "form.geometry(\"500x500\")\n",
    "\n",
    "label = tk.Label(text= \"Geometrik Yöneticiler\")\n",
    "label.pack(side= tk.RIGHT)\n",
    "\n",
    "button = tk.Button(text= \"Pack\")\n",
    "button.pack(side= tk.TOP, fill= tk.Y)\n",
    "\n",
    "form.mainloop()\n",
    "\n",
    "# Burada Y değerini de deneyerek sonucuna baktım."
   ]
  },
  {
   "cell_type": "code",
   "execution_count": 11,
   "metadata": {},
   "outputs": [],
   "source": [
    "form = tk.Tk()\n",
    "form.geometry(\"500x500\")\n",
    "\n",
    "label = tk.Label(text= \"Geometrik Yöneticiler\")\n",
    "label.pack(side= tk.RIGHT)\n",
    "\n",
    "button = tk.Button(text= \"Pack\")\n",
    "button.pack(side= tk.TOP, fill= tk.Y, expand= tk.YES)\n",
    "\n",
    "form.mainloop()\n",
    "\n",
    "# Y değeri hiçbir sonuç vermemişti.\n",
    "# Bunun için bir parametre daha olan expand parametrisi kullanıyoruz."
   ]
  },
  {
   "cell_type": "code",
   "execution_count": 13,
   "metadata": {},
   "outputs": [],
   "source": [
    "form = tk.Tk()\n",
    "form.geometry(\"500x500\")\n",
    "\n",
    "label = tk.Label(text= \"Geometrik Yöneticiler\")\n",
    "label.pack(side= tk.RIGHT)\n",
    "\n",
    "button = tk.Button(text= \"Pack\")\n",
    "button.pack(side= tk.TOP, fill= tk.Y, expand= 1)\n",
    "\n",
    "form.mainloop()\n",
    "\n",
    "# expand parametresini tk.YES yerine = 1 olarakta kullanabiliriz."
   ]
  },
  {
   "cell_type": "code",
   "execution_count": 17,
   "metadata": {},
   "outputs": [],
   "source": [
    "form = tk.Tk()\n",
    "form.geometry(\"500x500\")\n",
    "\n",
    "label = tk.Label(text= \"Geometrik Yöneticiler\")\n",
    "label.pack(side= tk.RIGHT)\n",
    "\n",
    "button = tk.Button(text= \"Pack\")\n",
    "button.pack(expand= tk.YES, anchor= \"e\")\n",
    "\n",
    "form.mainloop()\n",
    "\n",
    "# anchor parametresiyle de konumlandırma yapabiliyoruz.\n",
    "# \"n\" yukarı, \"s\" aşağı, \"e\" sağa, \"w\" sola şeklinde düşünebilirsiniz.\n",
    "# Ayrıca bunları \"ne\", \"nw\", \"se\", \"sw\" şeklinde de kombinleyebiliyoruz."
   ]
  },
  {
   "cell_type": "code",
   "execution_count": 18,
   "metadata": {},
   "outputs": [],
   "source": [
    "form = tk.Tk()\n",
    "form.geometry(\"500x500\")\n",
    "\n",
    "label = tk.Label(text= \"Geometrik Yöneticiler\")\n",
    "label.pack(side= tk.RIGHT)\n",
    "\n",
    "button = tk.Button(text= \"Pack\")\n",
    "button.pack(padx= 50, pady= 20)\n",
    "\n",
    "form.mainloop()\n",
    "\n",
    "# Sürekli kenarlara dayalı olarak button ve labellar gördük.\n",
    "# padx ve pady parametreleri koordinat sistemine göre kenarlardan uzaklaştırmanızı sağlar."
   ]
  },
  {
   "cell_type": "code",
   "execution_count": 19,
   "metadata": {},
   "outputs": [],
   "source": [
    "form = tk.Tk()\n",
    "form.geometry(\"500x500\")\n",
    "\n",
    "label = tk.Label(text= \"Geometrik Yöneticiler\")\n",
    "label.pack(side= tk.RIGHT)\n",
    "\n",
    "button = tk.Button(text= \"Pack\")\n",
    "button.pack(ipadx= 50, ipady= 80)\n",
    "\n",
    "form.mainloop()\n",
    "\n",
    "# ipadx ve ipady parametreleri de butonumuzu istediğimiz boyutlara getirebilmemizi sağlıyor."
   ]
  },
  {
   "cell_type": "code",
   "execution_count": null,
   "metadata": {},
   "outputs": [],
   "source": []
  }
 ],
 "metadata": {
  "kernelspec": {
   "display_name": "Python 3.11.0 64-bit",
   "language": "python",
   "name": "python3"
  },
  "language_info": {
   "codemirror_mode": {
    "name": "ipython",
    "version": 3
   },
   "file_extension": ".py",
   "mimetype": "text/x-python",
   "name": "python",
   "nbconvert_exporter": "python",
   "pygments_lexer": "ipython3",
   "version": "3.11.0"
  },
  "orig_nbformat": 4,
  "vscode": {
   "interpreter": {
    "hash": "7c542dbbc07e6010b76b61de8a453dc04d29cd1fae7fbaa29851ecbad9aefb83"
   }
  }
 },
 "nbformat": 4,
 "nbformat_minor": 2
}

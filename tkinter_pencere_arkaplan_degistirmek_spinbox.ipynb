{
 "cells": [
  {
   "cell_type": "code",
   "execution_count": 2,
   "metadata": {},
   "outputs": [],
   "source": [
    "import tkinter as tk"
   ]
  },
  {
   "cell_type": "code",
   "execution_count": 3,
   "metadata": {},
   "outputs": [],
   "source": [
    "form = tk.Tk()\n",
    "form.title(\"Spin Box\")\n",
    "form.config(bg= \"pink\")\n",
    "form.geometry(\"500x500\")\n",
    "\n",
    "spin = tk.Spinbox(form, from_= 10, to= 100).pack()\n",
    "\n",
    "form.mainloop()\n",
    "\n",
    "# 10 'dan 100 'e kadar sayılar olan bir spinbox oluşturduk."
   ]
  },
  {
   "cell_type": "code",
   "execution_count": 1,
   "metadata": {},
   "outputs": [
    {
     "ename": "NameError",
     "evalue": "name 'tk' is not defined",
     "output_type": "error",
     "traceback": [
      "\u001b[1;31m---------------------------------------------------------------------------\u001b[0m",
      "\u001b[1;31mNameError\u001b[0m                                 Traceback (most recent call last)",
      "Cell \u001b[1;32mIn [1], line 1\u001b[0m\n\u001b[1;32m----> 1\u001b[0m form \u001b[39m=\u001b[39m tk\u001b[39m.\u001b[39mTk()\n\u001b[0;32m      2\u001b[0m form\u001b[39m.\u001b[39mtitle(\u001b[39m\"\u001b[39m\u001b[39mSpin Box\u001b[39m\u001b[39m\"\u001b[39m)\n\u001b[0;32m      3\u001b[0m form\u001b[39m.\u001b[39mconfig(bg\u001b[39m=\u001b[39m \u001b[39m\"\u001b[39m\u001b[39mpink\u001b[39m\u001b[39m\"\u001b[39m)\n",
      "\u001b[1;31mNameError\u001b[0m: name 'tk' is not defined"
     ]
    }
   ],
   "source": [
    "form = tk.Tk()\n",
    "form.title(\"Spin Box\")\n",
    "form.config(bg= \"pink\")\n",
    "form.geometry(\"500x500\")\n",
    "\n",
    "x = tk.IntVar()\n",
    "\n",
    "spin = tk.Spinbox(form, from_= 10, to= 100, textvariable= x).pack()\n",
    "\n",
    "y = tk.IntVar()\n",
    "\n",
    "spin2 = tk.Spinbox(form, from_= 10, to= 20, textvariable= y).pack()\n",
    "\n",
    "def verial():\n",
    "    print(x.get())\n",
    "    print(y.get())\n",
    "\n",
    "button = tk.Button(form, text= \"Veri al\", command= verial).pack()\n",
    "\n",
    "form.mainloop()\n",
    "\n",
    "# get() methodu ile textvariable= parametresini ortak kullanarak da spinboxumuzdan veri alabiliriz.\n"
   ]
  },
  {
   "cell_type": "code",
   "execution_count": null,
   "metadata": {},
   "outputs": [],
   "source": []
  }
 ],
 "metadata": {
  "kernelspec": {
   "display_name": "Python 3.11.0 64-bit",
   "language": "python",
   "name": "python3"
  },
  "language_info": {
   "codemirror_mode": {
    "name": "ipython",
    "version": 3
   },
   "file_extension": ".py",
   "mimetype": "text/x-python",
   "name": "python",
   "nbconvert_exporter": "python",
   "pygments_lexer": "ipython3",
   "version": "3.11.0"
  },
  "orig_nbformat": 4,
  "vscode": {
   "interpreter": {
    "hash": "7c542dbbc07e6010b76b61de8a453dc04d29cd1fae7fbaa29851ecbad9aefb83"
   }
  }
 },
 "nbformat": 4,
 "nbformat_minor": 2
}

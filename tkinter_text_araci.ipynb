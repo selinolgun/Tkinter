{
 "cells": [
  {
   "cell_type": "code",
   "execution_count": 1,
   "metadata": {},
   "outputs": [],
   "source": [
    "import tkinter as tk"
   ]
  },
  {
   "cell_type": "code",
   "execution_count": 2,
   "metadata": {},
   "outputs": [],
   "source": [
    "form = tk.Tk()\n",
    "form.title(\"Text Aracı\")\n",
    "form.geometry(\"400x400\")\n",
    "form.config(bg= \"yellow\")\n",
    "\n",
    "text = tk.Text(form, width= 20, height= 20).pack()\n",
    "\n",
    "form.mainloop()\n",
    "\n",
    "# Entry gibi Text aracı da yazı yazmamızı sağlayan bir araçtır.\n",
    "# width= parametresiyle genişliği height= parametresiyle yüksekliğini ayarladık."
   ]
  },
  {
   "cell_type": "code",
   "execution_count": 3,
   "metadata": {},
   "outputs": [],
   "source": [
    "form = tk.Tk()\n",
    "form.title(\"Text Aracı\")\n",
    "form.geometry(\"400x400\")\n",
    "form.config(bg= \"yellow\")\n",
    "\n",
    "text = tk.Text(form, width= 20, height= 20, padx= 10, pady= 10).pack()\n",
    "\n",
    "form.mainloop()\n",
    "\n",
    "# padx= ve pady= parametreleri yazımızın dipten değilde x ve y koordinatlarına göre boşluk bırakmasını sağlar.\n",
    "# Kısacası sayfa düzeni için kullanılan parametrelerdir."
   ]
  },
  {
   "cell_type": "code",
   "execution_count": 4,
   "metadata": {},
   "outputs": [],
   "source": [
    "form = tk.Tk()\n",
    "form.title(\"Text Aracı\")\n",
    "form.geometry(\"400x400\")\n",
    "form.config(bg= \"yellow\")\n",
    "\n",
    "text = tk.Text(form, width= 20, height= 20, padx= 10, pady= 10, bd= 5).pack()\n",
    "\n",
    "form.mainloop()\n",
    "\n",
    "# bd= parametresi de text aracımıza çerçeve ekler.\n",
    "# Görsellik katmak için kullanılan bir parametredir."
   ]
  },
  {
   "cell_type": "code",
   "execution_count": 5,
   "metadata": {},
   "outputs": [],
   "source": [
    "form = tk.Tk()\n",
    "form.title(\"Text Aracı\")\n",
    "form.geometry(\"400x400\")\n",
    "form.config(bg= \"yellow\")\n",
    "\n",
    "text = tk.Text(form, width= 20, height= 20, padx= 10, pady= 10, bd= 5, selectbackground= \"green\").pack()\n",
    "\n",
    "form.mainloop()\n",
    "\n",
    "# selectbackground= parametresi adından da anlaşıldığı gibi text aracına yazı yazdığımızda\n",
    "# ve onu seçtiğimizde normalde varsayılan mavi rengini bizim istediğimiz gibi belirlememizi sağlar."
   ]
  },
  {
   "cell_type": "code",
   "execution_count": null,
   "metadata": {},
   "outputs": [],
   "source": []
  }
 ],
 "metadata": {
  "kernelspec": {
   "display_name": "Python 3.11.0 64-bit",
   "language": "python",
   "name": "python3"
  },
  "language_info": {
   "codemirror_mode": {
    "name": "ipython",
    "version": 3
   },
   "file_extension": ".py",
   "mimetype": "text/x-python",
   "name": "python",
   "nbconvert_exporter": "python",
   "pygments_lexer": "ipython3",
   "version": "3.11.0"
  },
  "orig_nbformat": 4,
  "vscode": {
   "interpreter": {
    "hash": "7c542dbbc07e6010b76b61de8a453dc04d29cd1fae7fbaa29851ecbad9aefb83"
   }
  }
 },
 "nbformat": 4,
 "nbformat_minor": 2
}

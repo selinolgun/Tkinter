{
 "cells": [
  {
   "cell_type": "code",
   "execution_count": 2,
   "metadata": {},
   "outputs": [],
   "source": [
    "import tkinter as tk\n",
    "import random as rd"
   ]
  },
  {
   "cell_type": "code",
   "execution_count": 5,
   "metadata": {},
   "outputs": [],
   "source": [
    "form = tk.Tk()\n",
    "form.title(\"Tekrar Uygulaması\")\n",
    "form.geometry(\"500x400+500+350\")\n",
    "\n",
    "liste = []\n",
    "for i in range(5):\n",
    "    while len(liste) != 6:\n",
    "        a = rd.randint(1, 50)\n",
    "        if a not in liste:\n",
    "            liste.append(a)\n",
    "\n",
    "def göster():\n",
    "    label.config(text= liste, bg= \"green\", )\n",
    "\n",
    "def saydamlaştır():\n",
    "    form.wm_attributes(\"-alpha\", 0.3)\n",
    "\n",
    "def döndür():\n",
    "    form.wm_attributes(\"-alpha\", 0.9)\n",
    "\n",
    "def max_yap():\n",
    "    form.state(\"zoomed\")\n",
    "\n",
    "def min_yap():\n",
    "    form.state(\"iconic\")\n",
    "\n",
    "label= tk.Label(form, fg= \"red\", bg= \"red\", font= \"Times 20 bold\")\n",
    "label.pack(side= tk.LEFT)\n",
    "\n",
    "göster = tk.Button(form, text= \"Göster\", fg= \"black\", bg= \"yellow\", command= göster)\n",
    "göster.pack(side= tk.LEFT)\n",
    "\n",
    "saydamlaştır = tk.Button(form, text= \"Saydamlaştır\", fg= \"black\", bg= \"yellow\", command= saydamlaştır)\n",
    "saydamlaştır.pack(side= tk.LEFT)\n",
    "\n",
    "döndür = tk.Button(form, text= \"Döndür\", fg= \"black\", bg= \"yellow\", command= döndür)\n",
    "döndür.pack(side= tk.LEFT)\n",
    "\n",
    "max_yap = tk.Button(form, text= \"Max Yap\", fg= \"black\", bg= \"yellow\", command= max_yap)\n",
    "max_yap.pack(side= tk.LEFT)\n",
    "\n",
    "min_yap = tk.Button(form, text= \"Min Yap\", fg= \"black\", bg= \"yellow\", command= min_yap)\n",
    "min_yap.pack(side= tk.LEFT)\n",
    "\n",
    "\n",
    "form.mainloop()"
   ]
  },
  {
   "cell_type": "code",
   "execution_count": null,
   "metadata": {},
   "outputs": [],
   "source": []
  }
 ],
 "metadata": {
  "kernelspec": {
   "display_name": "Python 3.11.0 64-bit",
   "language": "python",
   "name": "python3"
  },
  "language_info": {
   "codemirror_mode": {
    "name": "ipython",
    "version": 3
   },
   "file_extension": ".py",
   "mimetype": "text/x-python",
   "name": "python",
   "nbconvert_exporter": "python",
   "pygments_lexer": "ipython3",
   "version": "3.11.0"
  },
  "orig_nbformat": 4,
  "vscode": {
   "interpreter": {
    "hash": "7c542dbbc07e6010b76b61de8a453dc04d29cd1fae7fbaa29851ecbad9aefb83"
   }
  }
 },
 "nbformat": 4,
 "nbformat_minor": 2
}

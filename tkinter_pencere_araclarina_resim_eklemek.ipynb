{
 "cells": [
  {
   "cell_type": "code",
   "execution_count": 2,
   "metadata": {},
   "outputs": [],
   "source": [
    "import tkinter as tk\n",
    "from PIL import Image, ImageTk\n",
    "\n",
    "# Fotoğrafları yönetmek için pillow kütüphanesini yükledik."
   ]
  },
  {
   "cell_type": "code",
   "execution_count": 7,
   "metadata": {},
   "outputs": [],
   "source": [
    "form = tk.Tk()\n",
    "form.title(\"Pencere Araçlarına Resim Eklemek\")\n",
    "form.geometry(\"500x500\")\n",
    "\n",
    "resim = ImageTk.PhotoImage(Image.open(\"C:\\\\Users\\\\Fallrytme\\\\Desktop\\\\Ekran görüntüsü 2023-03-06 154218.png\"))\n",
    "\n",
    "button = tk.Button(form, image= resim, activebackground= \"green\").pack()\n",
    "\n",
    "form.mainloop()\n",
    "\n",
    "# pillow kütüphanemizin methodlarıyla resmimizi içe aktardık.\n",
    "# Button aracımızda bu resmi kullandık."
   ]
  },
  {
   "cell_type": "code",
   "execution_count": 3,
   "metadata": {},
   "outputs": [],
   "source": [
    "form = tk.Tk()\n",
    "form.title(\"Pencere Araçlarına Resim Eklemek\")\n",
    "form.geometry(\"500x500\")\n",
    "\n",
    "resim = ImageTk.PhotoImage(Image.open(\"C:\\\\Users\\\\Fallrytme\\\\Desktop\\\\Ekran görüntüsü 2023-03-06 154218.png\"))\n",
    "\n",
    "label = tk.Label(form, image= resim).pack()\n",
    "\n",
    "form.mainloop()\n",
    "\n",
    "# pillow kütüphanemizin methodlarıyla resmimizi içe aktardık.\n",
    "# Label aracımızda bu resmi kullandık. Daha önceki kullandığımızdan da bir farkı yok zaten."
   ]
  },
  {
   "cell_type": "code",
   "execution_count": 6,
   "metadata": {},
   "outputs": [
    {
     "name": "stdout",
     "output_type": "stream",
     "text": [
      "Onaylanmadı\n",
      "Onaylanmadı\n",
      "Onaylanmadı\n",
      "Onaylanmadı\n"
     ]
    }
   ],
   "source": [
    "form = tk.Tk()\n",
    "form.title(\"Pencere Araçlarına Resim Eklemek\")\n",
    "form.geometry(\"500x500\")\n",
    "\n",
    "resim = ImageTk.PhotoImage(Image.open(\"C:\\\\Users\\\\Fallrytme\\\\Desktop\\\\Ekran görüntüsü 2023-03-06 154218.png\"))\n",
    "\n",
    "x = tk.IntVar()\n",
    "x.set(0)\n",
    "\n",
    "def kontrol():\n",
    "    if x.get() == 0:\n",
    "        print(\"Onaylanmadı\")\n",
    "    else:\n",
    "        print(\"Onaylandı\")\n",
    "\n",
    "check = tk.Checkbutton(form, image= resim, command= kontrol, variable= x).pack()\n",
    "\n",
    "form.mainloop()\n",
    "\n",
    "# pillow kütüphanemizin methodlarıyla resmimizi içe aktardık.\n",
    "# Checkbutton aracımızda bu resmi kullandık. Daha önceki kullandığımızdan da bir farkı yok zaten.\n",
    "# Dahasını oturup tek tek denemeyeceğim.\n",
    "# Siz merak ettiklerinizi aynı yöntemlerle deneyebilirsiniz."
   ]
  },
  {
   "cell_type": "code",
   "execution_count": null,
   "metadata": {},
   "outputs": [],
   "source": []
  }
 ],
 "metadata": {
  "kernelspec": {
   "display_name": "Python 3.11.0 64-bit",
   "language": "python",
   "name": "python3"
  },
  "language_info": {
   "codemirror_mode": {
    "name": "ipython",
    "version": 3
   },
   "file_extension": ".py",
   "mimetype": "text/x-python",
   "name": "python",
   "nbconvert_exporter": "python",
   "pygments_lexer": "ipython3",
   "version": "3.11.0"
  },
  "orig_nbformat": 4,
  "vscode": {
   "interpreter": {
    "hash": "7c542dbbc07e6010b76b61de8a453dc04d29cd1fae7fbaa29851ecbad9aefb83"
   }
  }
 },
 "nbformat": 4,
 "nbformat_minor": 2
}

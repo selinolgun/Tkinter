{
 "cells": [
  {
   "cell_type": "code",
   "execution_count": 1,
   "metadata": {},
   "outputs": [],
   "source": [
    "import tkinter as tk"
   ]
  },
  {
   "cell_type": "code",
   "execution_count": 2,
   "metadata": {},
   "outputs": [],
   "source": [
    "form = tk.Tk()\n",
    "form.title(\"Button\")\n",
    "form.geometry(\"500x400\")\n",
    "\n",
    "def topla():\n",
    "    pass\n",
    "\n",
    "buton = tk.Button(form, text= \"Tıkla\", fg= \"black\", bg= \"red\", command= topla)\n",
    "buton.pack()\n",
    "\n",
    "form.mainloop()\n",
    "\n",
    "# Bir buton ekledik.\n",
    "# Bu butonun yapacağı işlemi command parametresiyle verdik.\n",
    "# Yapacağı işlemi fonksiyon olarak öncesinde tanımlamamız gerekiyor."
   ]
  },
  {
   "cell_type": "code",
   "execution_count": 4,
   "metadata": {},
   "outputs": [
    {
     "name": "stdout",
     "output_type": "stream",
     "text": [
      "topla\n",
      "topla\n"
     ]
    }
   ],
   "source": [
    "form = tk.Tk()\n",
    "form.title(\"Button\")\n",
    "form.geometry(\"500x400\")\n",
    "\n",
    "def topla():\n",
    "    print(\"topla\")\n",
    "\n",
    "buton = tk.Button(form, text= \"Tıkla\", fg= \"black\", bg= \"red\", command= topla)\n",
    "buton.pack()\n",
    "\n",
    "buton2 = tk.Button(form, text= \"Butona Bas\", command= topla)\n",
    "buton2.pack()\n",
    "\n",
    "form.mainloop()\n",
    "\n",
    "# İkinci bir buton atadık.\n",
    "# Topla fonksiyonumuzun içeriğini değiştirdik.\n",
    "# Penceremizde butonları kullandığımızda doğru sonuç aldığımızı gördük."
   ]
  },
  {
   "cell_type": "code",
   "execution_count": 5,
   "metadata": {},
   "outputs": [
    {
     "name": "stdout",
     "output_type": "stream",
     "text": [
      "topla\n",
      "topla\n"
     ]
    }
   ],
   "source": [
    "form = tk.Tk()\n",
    "form.title(\"Button\")\n",
    "form.geometry(\"500x400\")\n",
    "\n",
    "def topla():\n",
    "    print(\"topla\")\n",
    "\n",
    "buton = tk.Button(form, text= \"Tıkla\", fg= \"black\", bg= \"red\", command= topla)\n",
    "buton.pack(side= tk.LEFT)\n",
    "\n",
    "buton2 = tk.Button(form, text= \"Butona Bas\", command= topla)\n",
    "buton2.pack(side= tk.LEFT)\n",
    "\n",
    "form.mainloop()\n",
    "\n",
    "# Butonlarımız konumunu değiştirdim ve sola yasladım."
   ]
  },
  {
   "cell_type": "code",
   "execution_count": 6,
   "metadata": {},
   "outputs": [
    {
     "name": "stdout",
     "output_type": "stream",
     "text": [
      "topla\n",
      "topla\n"
     ]
    }
   ],
   "source": [
    "form = tk.Tk()\n",
    "form.title(\"Button\")\n",
    "form.geometry(\"500x400\")\n",
    "\n",
    "def topla():\n",
    "    print(\"topla\")\n",
    "\n",
    "buton = tk.Button(form, text= \"Tıkla\", fg= \"black\", bg= \"red\", command= topla)\n",
    "buton.pack(side= tk.RIGHT)\n",
    "\n",
    "buton2 = tk.Button(form, text= \"Butona Bas\", command= topla)\n",
    "buton2.pack(side= tk.RIGHT)\n",
    "\n",
    "form.mainloop()\n",
    "\n",
    "# Butonlarımız konumunu değiştirdim ve sağa yasladım."
   ]
  },
  {
   "cell_type": "code",
   "execution_count": null,
   "metadata": {},
   "outputs": [],
   "source": []
  }
 ],
 "metadata": {
  "kernelspec": {
   "display_name": "Python 3.11.0 64-bit",
   "language": "python",
   "name": "python3"
  },
  "language_info": {
   "codemirror_mode": {
    "name": "ipython",
    "version": 3
   },
   "file_extension": ".py",
   "mimetype": "text/x-python",
   "name": "python",
   "nbconvert_exporter": "python",
   "pygments_lexer": "ipython3",
   "version": "3.11.0"
  },
  "orig_nbformat": 4,
  "vscode": {
   "interpreter": {
    "hash": "7c542dbbc07e6010b76b61de8a453dc04d29cd1fae7fbaa29851ecbad9aefb83"
   }
  }
 },
 "nbformat": 4,
 "nbformat_minor": 2
}

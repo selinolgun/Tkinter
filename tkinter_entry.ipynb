{
 "cells": [
  {
   "cell_type": "code",
   "execution_count": 1,
   "metadata": {},
   "outputs": [],
   "source": [
    "import tkinter as tk"
   ]
  },
  {
   "cell_type": "code",
   "execution_count": 2,
   "metadata": {},
   "outputs": [],
   "source": [
    "form = tk.Tk()\n",
    "form.title(\"Entry\")\n",
    "form.geometry(\"500x450+250+250\")\n",
    "\n",
    "giriş = tk.Entry(fg= \"black\", bg= \"red\")\n",
    "giriş.pack()\n",
    "\n",
    "form.mainloop()\n",
    "\n",
    "# Basit bir kullanıcının giriş yapabileceği entry ekledik."
   ]
  },
  {
   "cell_type": "code",
   "execution_count": 4,
   "metadata": {},
   "outputs": [],
   "source": [
    "form = tk.Tk()\n",
    "form.title(\"Entry\")\n",
    "form.geometry(\"500x450+250+250\")\n",
    "\n",
    "giriş = tk.Entry(form, fg= \"black\", bg= \"green\")\n",
    "giriş.pack()\n",
    "\n",
    "giriş2 = tk.Entry(form, fg= \"red\", bg= \"blue\")\n",
    "giriş2.pack(side= tk.LEFT)\n",
    "\n",
    "form.mainloop()\n",
    "\n",
    "# İkinci bir giriş ekledik.\n",
    "# Entryleri de istediğimiz yere konumlandırabiliyoruz."
   ]
  },
  {
   "cell_type": "code",
   "execution_count": null,
   "metadata": {},
   "outputs": [],
   "source": []
  }
 ],
 "metadata": {
  "kernelspec": {
   "display_name": "Python 3.11.0 64-bit",
   "language": "python",
   "name": "python3"
  },
  "language_info": {
   "codemirror_mode": {
    "name": "ipython",
    "version": 3
   },
   "file_extension": ".py",
   "mimetype": "text/x-python",
   "name": "python",
   "nbconvert_exporter": "python",
   "pygments_lexer": "ipython3",
   "version": "3.11.0"
  },
  "orig_nbformat": 4,
  "vscode": {
   "interpreter": {
    "hash": "7c542dbbc07e6010b76b61de8a453dc04d29cd1fae7fbaa29851ecbad9aefb83"
   }
  }
 },
 "nbformat": 4,
 "nbformat_minor": 2
}

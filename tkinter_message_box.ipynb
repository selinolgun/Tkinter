{
 "cells": [
  {
   "cell_type": "code",
   "execution_count": 2,
   "metadata": {},
   "outputs": [],
   "source": [
    "import tkinter as tk\n",
    "from tkinter import messagebox\n",
    "\n",
    "# messagebox direkt tkinter ile gelmiyor.\n",
    "# Bunun için ayrıyetten tkinter içine import ediyoruz."
   ]
  },
  {
   "cell_type": "code",
   "execution_count": 3,
   "metadata": {},
   "outputs": [],
   "source": [
    "form = tk.Tk()\n",
    "form.title(\"Message Box\")\n",
    "form.geometry(\"500x500\")\n",
    "\n",
    "form.mainloop()\n",
    "\n",
    "# Basit penceremizi oluşturduk."
   ]
  },
  {
   "cell_type": "code",
   "execution_count": 5,
   "metadata": {},
   "outputs": [],
   "source": [
    "form = tk.Tk()\n",
    "form.title(\"Message Box\")\n",
    "form.geometry(\"500x500\")\n",
    "\n",
    "def mesaj():\n",
    "    messagebox.showinfo(title= \"Mesaj1\", message= \"Lütfen mesaja riayet edelim!\")\n",
    "\n",
    "button = tk.Button(form, text= \"Button 1\", command= mesaj)\n",
    "button.pack()\n",
    "\n",
    "form.mainloop()\n",
    "\n",
    "# Bir button oluşturduk.\n",
    "# Bu butonun commandında messagebox 'ımızı kullanıyoruz.\n",
    "# Butona tıklandığında başlığında title= parametresine girdiğimiz değer.\n",
    "# Altında da message= parametresine girdiğimiz yazı çıkıyor."
   ]
  },
  {
   "cell_type": "code",
   "execution_count": 6,
   "metadata": {},
   "outputs": [],
   "source": [
    "form = tk.Tk()\n",
    "form.title(\"Message Box\")\n",
    "form.geometry(\"500x500\")\n",
    "\n",
    "def mesaj():\n",
    "    messagebox.showinfo(title= \"Mesaj1\", message= \"Lütfen mesaja riayet edelim!\")\n",
    "    messagebox.askretrycancel(title= \"Mesaj2\", message= \"Lütfen riayet et artık!\")\n",
    "button = tk.Button(form, text= \"Button 1\", command= mesaj)\n",
    "button.pack()\n",
    "\n",
    "form.mainloop()\n",
    "\n",
    "# showinfodan farklı olarak bu sefer askretrycancel kullandık.\n",
    "# Bu sefer çıkan messagebox 'ımızda yeniden dene ve iptal butonları da messagebox 'ımızın içinde yer alıyor."
   ]
  },
  {
   "cell_type": "code",
   "execution_count": 7,
   "metadata": {},
   "outputs": [],
   "source": [
    "form = tk.Tk()\n",
    "form.title(\"Message Box\")\n",
    "form.geometry(\"500x500\")\n",
    "\n",
    "def mesaj():\n",
    "    messagebox.showinfo(title= \"Mesaj1\", message= \"Lütfen mesaja riayet edelim!\")\n",
    "    messagebox.askretrycancel(title= \"Mesaj2\", message= \"Lütfen riayet et artık!\")\n",
    "    messagebox.askyesno(title= \"Mesaj3\", message= \"Ama yeter artık!\")\n",
    "button = tk.Button(form, text= \"Button 1\", command= mesaj)\n",
    "button.pack()\n",
    "\n",
    "form.mainloop()\n",
    "\n",
    "# retry cancel gibi yes no da bize iki kutucuk çıkartıyor bunlarda evet hayır oluyor.\n",
    "# Biraz ingilizce biliyorsanız mantığını anlamışsınızdır."
   ]
  },
  {
   "cell_type": "code",
   "execution_count": 8,
   "metadata": {},
   "outputs": [],
   "source": [
    "form = tk.Tk()\n",
    "form.title(\"Message Box\")\n",
    "form.geometry(\"500x500\")\n",
    "\n",
    "def mesaj():\n",
    "    messagebox.showinfo(title= \"Mesaj1\", message= \"Lütfen mesaja riayet edelim!\")\n",
    "    messagebox.askretrycancel(title= \"Mesaj2\", message= \"Lütfen riayet et artık!\")\n",
    "    messagebox.askyesno(title= \"Mesaj3\", message= \"Ama yeter artık!\")\n",
    "    messagebox.askquestion(title= \"Mesaj4\", message= \"Bu son\")\n",
    "button = tk.Button(form, text= \"Button 1\", command= mesaj)\n",
    "button.pack()\n",
    "\n",
    "form.mainloop()\n",
    "\n",
    "# askquestionda bir soru soruyor yesno dan bir farkı yoktur."
   ]
  },
  {
   "cell_type": "code",
   "execution_count": null,
   "metadata": {},
   "outputs": [],
   "source": []
  }
 ],
 "metadata": {
  "kernelspec": {
   "display_name": "Python 3.11.0 64-bit",
   "language": "python",
   "name": "python3"
  },
  "language_info": {
   "codemirror_mode": {
    "name": "ipython",
    "version": 3
   },
   "file_extension": ".py",
   "mimetype": "text/x-python",
   "name": "python",
   "nbconvert_exporter": "python",
   "pygments_lexer": "ipython3",
   "version": "3.11.0"
  },
  "orig_nbformat": 4,
  "vscode": {
   "interpreter": {
    "hash": "7c542dbbc07e6010b76b61de8a453dc04d29cd1fae7fbaa29851ecbad9aefb83"
   }
  }
 },
 "nbformat": 4,
 "nbformat_minor": 2
}

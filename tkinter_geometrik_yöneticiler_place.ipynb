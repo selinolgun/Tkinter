{
 "cells": [
  {
   "cell_type": "code",
   "execution_count": 1,
   "metadata": {},
   "outputs": [],
   "source": [
    "import tkinter as tk"
   ]
  },
  {
   "cell_type": "code",
   "execution_count": 2,
   "metadata": {},
   "outputs": [],
   "source": [
    "form = tk.Tk()\n",
    "form.title(\"Place\")\n",
    "form.geometry(\"500x450+250+250\")\n",
    "\n",
    "button = tk.Button(form, text= \"Deneme\", fg= \"red\", bg= \"green\", font= \"Times 17 bold\")\n",
    "button.place(x= 50, y= 40)\n",
    "\n",
    "form.mainloop()\n",
    "\n",
    "# pack metodunun padx ve pady parametresinde olduğu gibi \n",
    "# place metodunda da kordinat sistemine göre konumlandırma yapabiliyoruz."
   ]
  },
  {
   "cell_type": "code",
   "execution_count": 4,
   "metadata": {},
   "outputs": [],
   "source": [
    "form = tk.Tk()\n",
    "form.title(\"Place\")\n",
    "form.geometry(\"500x450+250+250\")\n",
    "\n",
    "button = tk.Button(form, text= \"Deneme\", fg= \"red\", bg= \"green\", font= \"Times 17 bold\")\n",
    "button.place(relx= 0.5, rely= 0.5)\n",
    "\n",
    "form.mainloop()\n",
    "\n",
    "# Eğer penceremizi büyültüp küçültürsek bizim butonumuz yine de sabit kalır.\n",
    "# Biz butonumuzun pencerenin boyutuyla dinamik olarak büyüyüp küçülmesini istiyoruz.\n",
    "# Bu yüzden relx ve rely parametrelerini kullanıyoruz.\n",
    "# Önemli olan kısım relx ve rely 'nin değerleri yüzdelik olarak aldığını unutmamak gerekiyor."
   ]
  },
  {
   "cell_type": "code",
   "execution_count": 5,
   "metadata": {},
   "outputs": [],
   "source": [
    "form = tk.Tk()\n",
    "form.title(\"Place\")\n",
    "form.geometry(\"500x450+250+250\")\n",
    "\n",
    "button = tk.Button(form, text= \"Deneme\", fg= \"red\", bg= \"green\", font= \"Times 17 bold\")\n",
    "button.place(width= 50, height= 60)\n",
    "\n",
    "form.mainloop()\n",
    "\n",
    "# width ve height parametreleriyle de butonumuzun boyutunu ayarlayabiliriz."
   ]
  },
  {
   "cell_type": "code",
   "execution_count": null,
   "metadata": {},
   "outputs": [],
   "source": []
  }
 ],
 "metadata": {
  "kernelspec": {
   "display_name": "Python 3.11.0 64-bit",
   "language": "python",
   "name": "python3"
  },
  "language_info": {
   "codemirror_mode": {
    "name": "ipython",
    "version": 3
   },
   "file_extension": ".py",
   "mimetype": "text/x-python",
   "name": "python",
   "nbconvert_exporter": "python",
   "pygments_lexer": "ipython3",
   "version": "3.11.0"
  },
  "orig_nbformat": 4,
  "vscode": {
   "interpreter": {
    "hash": "7c542dbbc07e6010b76b61de8a453dc04d29cd1fae7fbaa29851ecbad9aefb83"
   }
  }
 },
 "nbformat": 4,
 "nbformat_minor": 2
}

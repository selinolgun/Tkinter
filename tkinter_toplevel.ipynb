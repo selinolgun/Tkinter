{
 "cells": [
  {
   "cell_type": "code",
   "execution_count": 1,
   "metadata": {},
   "outputs": [],
   "source": [
    "import tkinter as tk"
   ]
  },
  {
   "cell_type": "code",
   "execution_count": 2,
   "metadata": {},
   "outputs": [],
   "source": [
    "form = tk.Tk()\n",
    "form.title(\"Toplevel\")\n",
    "form.geometry(\"500x500\")\n",
    "\n",
    "toplevel = tk.Toplevel(bg= \"green\")\n",
    "\n",
    "form.mainloop()\n",
    "\n",
    "# Toplevel oluşturduk.\n",
    "# Toplevelin amacı farklı pencereler oluşturup onlar arasında işlemler yapmaktır."
   ]
  },
  {
   "cell_type": "code",
   "execution_count": 4,
   "metadata": {},
   "outputs": [],
   "source": [
    "form = tk.Tk()\n",
    "form.title(\"Toplevel\")\n",
    "form.geometry(\"500x500\")\n",
    "\n",
    "toplevel = tk.Toplevel(bg= \"green\")\n",
    "toplevel.title(\"Toplevel 2\")\n",
    "toplevel.geometry(\"250x250\")\n",
    "\n",
    "form.mainloop()\n",
    "\n",
    "# Toplevel üzerinde de normal pencere gibi işlemler yapabiliriz.\n",
    "# Toplevel kapanınca asıl pencere kapanmaz\n",
    "# Asıl pencere kapanırsa toplevel kapanır."
   ]
  },
  {
   "cell_type": "code",
   "execution_count": null,
   "metadata": {},
   "outputs": [],
   "source": []
  }
 ],
 "metadata": {
  "kernelspec": {
   "display_name": "Python 3.11.0 64-bit",
   "language": "python",
   "name": "python3"
  },
  "language_info": {
   "codemirror_mode": {
    "name": "ipython",
    "version": 3
   },
   "file_extension": ".py",
   "mimetype": "text/x-python",
   "name": "python",
   "nbconvert_exporter": "python",
   "pygments_lexer": "ipython3",
   "version": "3.11.0"
  },
  "orig_nbformat": 4,
  "vscode": {
   "interpreter": {
    "hash": "7c542dbbc07e6010b76b61de8a453dc04d29cd1fae7fbaa29851ecbad9aefb83"
   }
  }
 },
 "nbformat": 4,
 "nbformat_minor": 2
}

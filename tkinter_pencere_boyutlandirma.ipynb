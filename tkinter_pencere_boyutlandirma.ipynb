{
 "cells": [
  {
   "cell_type": "code",
   "execution_count": 1,
   "metadata": {},
   "outputs": [],
   "source": [
    "import tkinter as tk"
   ]
  },
  {
   "cell_type": "code",
   "execution_count": 2,
   "metadata": {},
   "outputs": [],
   "source": [
    "form = tk.Tk()\n",
    "form.title(\"Pencere Boyutlandırma\")\n",
    "form.mainloop()\n",
    "\n",
    "# Bu şekilde çalıştırdığımızda sabit bir boyutumuz olmuyor.\n",
    "# Kullanıcı istediği şekilde eğip bükebilir.\n",
    "# Ancak bu hem hoş görüntü olmaması için hem de tercih etmediğimiz için istemediğimiz bir durum."
   ]
  },
  {
   "cell_type": "code",
   "execution_count": 3,
   "metadata": {},
   "outputs": [],
   "source": [
    "form = tk.Tk()\n",
    "form.title(\"Pencere Boyutlandırma\")\n",
    "label = tk.Label(form, text= \"Ders 3\")\n",
    "label.pack()\n",
    "form.mainloop()\n",
    "\n",
    "# Bir label ekledik ve çalıştırdığımızda karşımıza çıkan boyut çok kötü.\n",
    "# Hadi bunun için düzenleme yapalım."
   ]
  },
  {
   "cell_type": "code",
   "execution_count": 4,
   "metadata": {},
   "outputs": [],
   "source": [
    "form = tk.Tk()\n",
    "form.title(\"Pencere Boyutlandırma\")\n",
    "label = tk.Label(form, text= \"Ders 3\")\n",
    "label.pack()\n",
    "form.geometry(\"500x250\")\n",
    "form.mainloop()\n",
    "\n",
    "# Yatayda 500 , yükseklikte 250 piksel boyutunda bir pencere olmasını geometri metoduyla sağladık."
   ]
  },
  {
   "cell_type": "code",
   "execution_count": 5,
   "metadata": {},
   "outputs": [],
   "source": [
    "form = tk.Tk()\n",
    "form.title(\"Pencere Boyutlandırma\")\n",
    "label = tk.Label(form, text= \"Ders 3\")\n",
    "label.pack()\n",
    "form.geometry(\"500x250+500+350\")\n",
    "form.mainloop()\n",
    "\n",
    "# geometry metoduna verdiğimiz diğer iki parametre ile penceremizin ekranın hangi piksellerinde açılacağını belirledik."
   ]
  },
  {
   "cell_type": "code",
   "execution_count": 6,
   "metadata": {},
   "outputs": [],
   "source": [
    "form = tk.Tk()\n",
    "form.title(\"Pencere Boyutlandırma\")\n",
    "label = tk.Label(form, text= \"Ders 3\")\n",
    "label.pack()\n",
    "form.geometry(\"500x250+500+350\")\n",
    "form.minsize(450,400)\n",
    "form.maxsize(550,550)\n",
    "form.mainloop()\n",
    "\n",
    "# minsize ve maxsize ile pencerenin kullanıcı tarafından boyutlandırılmasını kısıtlyabiliyoruz.\n",
    "# minsize küçültülebilecek minimum boyutu\n",
    "# maxsize büyültülebilecek maksimum boyutu gösteriyor."
   ]
  },
  {
   "cell_type": "code",
   "execution_count": 7,
   "metadata": {},
   "outputs": [],
   "source": [
    "form = tk.Tk()\n",
    "form.title(\"Pencere Boyutlandırma\")\n",
    "label = tk.Label(form, text= \"Ders 3\")\n",
    "label.pack()\n",
    "form.geometry(\"500x250+500+350\")\n",
    "form.minsize(500,250)\n",
    "form.maxsize(500,250)\n",
    "form.mainloop()\n",
    "\n",
    "# minsize ve maxsize 'ı standart boyutlarımızla aynı yaparsak hiçbir şekilde penceremizin boyutlarıyla oynayamazsınız."
   ]
  },
  {
   "cell_type": "code",
   "execution_count": 8,
   "metadata": {},
   "outputs": [],
   "source": [
    "form = tk.Tk()\n",
    "form.title(\"Pencere Boyutlandırma\")\n",
    "label = tk.Label(form, text= \"Ders 3\")\n",
    "label.pack()\n",
    "form.geometry(\"500x250+500+350\")\n",
    "form.resizable(False, False)\n",
    "form.mainloop()\n",
    "\n",
    "# resizable metoduna da False değerleri atayarak \n",
    "# Hem dikey hem yatay olarak yeniden boyutlandırılmasını engelleyebilirsiniz.\n",
    "# Burada ilk False x değerini yani yatay boyutu\n",
    "# İkinci False y değerini yani dikey boyutu temsil eder."
   ]
  },
  {
   "cell_type": "code",
   "execution_count": null,
   "metadata": {},
   "outputs": [],
   "source": []
  }
 ],
 "metadata": {
  "kernelspec": {
   "display_name": "Python 3.11.0 64-bit",
   "language": "python",
   "name": "python3"
  },
  "language_info": {
   "codemirror_mode": {
    "name": "ipython",
    "version": 3
   },
   "file_extension": ".py",
   "mimetype": "text/x-python",
   "name": "python",
   "nbconvert_exporter": "python",
   "pygments_lexer": "ipython3",
   "version": "3.11.0"
  },
  "orig_nbformat": 4,
  "vscode": {
   "interpreter": {
    "hash": "7c542dbbc07e6010b76b61de8a453dc04d29cd1fae7fbaa29851ecbad9aefb83"
   }
  }
 },
 "nbformat": 4,
 "nbformat_minor": 2
}

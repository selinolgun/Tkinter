{
 "cells": [
  {
   "cell_type": "code",
   "execution_count": 1,
   "metadata": {},
   "outputs": [],
   "source": [
    "import tkinter as tk\n",
    "\n",
    "# tkinter python ile gelen bir gömülü kütüphanedir.\n",
    "# Bu yüzden herhangi bir işlem yapmadan sadece import ile içe aktarma yapabilirsiniz."
   ]
  },
  {
   "cell_type": "code",
   "execution_count": 9,
   "metadata": {},
   "outputs": [],
   "source": [
    "form = tk.Tk()\n",
    "\n",
    "# Şu an pencereyi olusturduk.\n",
    "# Ancak herhangi bir çıktı almadık. \n",
    "# Bunun nedeni pencerenin ekranda duracak zamanı olmaması."
   ]
  },
  {
   "cell_type": "code",
   "execution_count": 10,
   "metadata": {},
   "outputs": [],
   "source": [
    "form.mainloop()\n",
    "\n",
    "# Bu metotla da ilk penceremizin açılmasını sağlamış olduk."
   ]
  },
  {
   "cell_type": "code",
   "execution_count": 12,
   "metadata": {},
   "outputs": [],
   "source": [
    "form = tk.Tk()\n",
    "form.title(\"Tkinter Dersleri 1\")\n",
    "form.mainloop()\n",
    "\n",
    "# Çalıştırdığımızda isim ataması yapmadığımız için başlığımız tk olarak göründü.\n",
    "# Bizde title metodu ile kendi başlık atamamızı yaptık."
   ]
  },
  {
   "cell_type": "code",
   "execution_count": 13,
   "metadata": {},
   "outputs": [],
   "source": [
    "form = tk.Tk()\n",
    "form.title(\"Tkinter Dersleri 1\")\n",
    "etiket = tk.Label(text= \"Tkinter Python\")\n",
    "form.mainloop()\n",
    "\n",
    "# Label oluşturmayı da yaptık ancak nasıl pencerenin görünecek zamanı olmadıysa labelımızında olmadı."
   ]
  },
  {
   "cell_type": "code",
   "execution_count": 14,
   "metadata": {},
   "outputs": [],
   "source": [
    "form = tk.Tk()\n",
    "form.title(\"Tkinter Dersleri 1\")\n",
    "etiket = tk.Label(text= \"Tkinter Python\")\n",
    "etiket.pack()\n",
    "form.mainloop()\n",
    "\n",
    "# Labelın ekranda durması içinde pack metodunu kullanıyoruz."
   ]
  },
  {
   "cell_type": "code",
   "execution_count": 15,
   "metadata": {},
   "outputs": [],
   "source": [
    "form = tk.Tk()\n",
    "form.title(\"Tkinter Dersleri 1\")\n",
    "etiket = tk.Label(text= \"Tkinter Python\")\n",
    "etiket.pack()\n",
    "etiket2 = tk.Label(form, text= \"Python ile Tkinter Öğreniyorum\")\n",
    "etiket2.pack()\n",
    "form.mainloop()\n",
    "\n",
    "# Pratiklik açısından ikinci labelımızı da oluşturduk.\n",
    "# Ancak farklı yaptığımız şey nerede oluşturulacağını biz belirledik. \n",
    "# Parametre form kullanarak.\n",
    "# Asıl doğru kullanımda burada oluşturduğumuz ikinci label şeklindedir.\n",
    "# Buna alışmaya çalışırsanız iyi olur."
   ]
  },
  {
   "cell_type": "code",
   "execution_count": null,
   "metadata": {},
   "outputs": [],
   "source": []
  }
 ],
 "metadata": {
  "kernelspec": {
   "display_name": "Python 3.11.0 64-bit",
   "language": "python",
   "name": "python3"
  },
  "language_info": {
   "codemirror_mode": {
    "name": "ipython",
    "version": 3
   },
   "file_extension": ".py",
   "mimetype": "text/x-python",
   "name": "python",
   "nbconvert_exporter": "python",
   "pygments_lexer": "ipython3",
   "version": "3.11.0"
  },
  "orig_nbformat": 4,
  "vscode": {
   "interpreter": {
    "hash": "7c542dbbc07e6010b76b61de8a453dc04d29cd1fae7fbaa29851ecbad9aefb83"
   }
  }
 },
 "nbformat": 4,
 "nbformat_minor": 2
}

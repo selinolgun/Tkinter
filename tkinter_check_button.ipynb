{
 "cells": [
  {
   "cell_type": "code",
   "execution_count": 1,
   "metadata": {},
   "outputs": [],
   "source": [
    "import tkinter as tk"
   ]
  },
  {
   "cell_type": "code",
   "execution_count": 2,
   "metadata": {},
   "outputs": [],
   "source": [
    "form = tk.Tk()\n",
    "form.title(\"Check Button\")\n",
    "form.geometry(\"500x500\")\n",
    "\n",
    "form.mainloop()\n",
    "\n",
    "# Öncelikle penceremizi basit bir şekilde oluşturduk."
   ]
  },
  {
   "cell_type": "code",
   "execution_count": 2,
   "metadata": {},
   "outputs": [
    {
     "name": "stdout",
     "output_type": "stream",
     "text": [
      "Onaylandı\n"
     ]
    }
   ],
   "source": [
    "form = tk.Tk()\n",
    "form.title(\"Check Button\")\n",
    "form.geometry(\"500x500\")\n",
    "\n",
    "x = tk.IntVar()\n",
    "x.set(0)\n",
    "\n",
    "def kontrol():\n",
    "    if x.get() == 0:\n",
    "        print(\"Onaylanmadı\")\n",
    "    else:\n",
    "        print(\"Onaylandı\")\n",
    "\n",
    "check = tk.Checkbutton(form, text= \"Onay\", fg= \"pink\", bg= \"green\", variable= x, command= kontrol)\n",
    "check.pack()\n",
    "\n",
    "form.mainloop()\n",
    "\n",
    "# Bir check button ekledik.\n",
    "# Checkbutton 'un parametrelerinde variable yani başta kutucuğumuzun içi dolu mu yoksa boş mu gelecek onu belirtiyoruz.\n",
    "# Bunu da belirtirken bir değişken atayıp set metoduna 0 yazarsak içi boş\n",
    "# set() metoduna 1 yazarsak içi dolu olarak geliyor.\n",
    "# command() metodunu butonlarda görmüştük.\n",
    "# Burada da işlevi aynı. Eğer kutucuğumuz işaretlenirse ne işlemler yapacağını belirtiyoruz."
   ]
  },
  {
   "cell_type": "code",
   "execution_count": null,
   "metadata": {},
   "outputs": [],
   "source": []
  }
 ],
 "metadata": {
  "kernelspec": {
   "display_name": "Python 3.11.0 64-bit",
   "language": "python",
   "name": "python3"
  },
  "language_info": {
   "codemirror_mode": {
    "name": "ipython",
    "version": 3
   },
   "file_extension": ".py",
   "mimetype": "text/x-python",
   "name": "python",
   "nbconvert_exporter": "python",
   "pygments_lexer": "ipython3",
   "version": "3.11.0"
  },
  "orig_nbformat": 4,
  "vscode": {
   "interpreter": {
    "hash": "7c542dbbc07e6010b76b61de8a453dc04d29cd1fae7fbaa29851ecbad9aefb83"
   }
  }
 },
 "nbformat": 4,
 "nbformat_minor": 2
}

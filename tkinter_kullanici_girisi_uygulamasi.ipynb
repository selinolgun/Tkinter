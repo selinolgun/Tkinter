{
 "cells": [
  {
   "cell_type": "code",
   "execution_count": 1,
   "metadata": {},
   "outputs": [],
   "source": [
    "import tkinter as tk"
   ]
  },
  {
   "cell_type": "code",
   "execution_count": null,
   "metadata": {},
   "outputs": [],
   "source": [
    "form = tk.Tk()\n",
    "form.title(\"Kullanıcı Girişi Uygulaması\")\n",
    "form.geometry(\"500x300\")\n",
    "\n",
    "mail = tk.Label(text= \"e-mail:\", fg= \"black\", bg= \"blue\", font= \"Times 10 bold\")\n",
    "mail.place(x= 10, y= 30)\n",
    "\n",
    "mail_entry = tk.Entry()\n",
    "mail_entry.place(x= 60, y= 30)\n",
    "\n",
    "şifre = tk.Label(text= \"şifre:\", fg= \"black\", bg= \"blue\", font= \"Times 10 bold\")\n",
    "şifre.place(x= 10, y= 60)\n",
    "\n",
    "şifre_entry = tk.Entry(show= \"*\")\n",
    "şifre_entry.place(x= 60, y= 60)\n",
    "\n",
    "def kayıt():\n",
    "    isim = tk.Label(text= \"isim:\", fg= \"black\", bg= \"blue\", font= \"Times 10 bold\")\n",
    "    isim.place(x= 10, y= 130)\n",
    "\n",
    "    isim_entry = tk.Entry()\n",
    "    isim_entry.place(x= 60, y= 130)\n",
    "\n",
    "    mail = tk.Label(text= \"e-mail:\", fg= \"black\", bg= \"blue\", font= \"Times 10 bold\")\n",
    "    mail.place(x= 10, y= 160)\n",
    "\n",
    "    mail_entry = tk.Entry()\n",
    "    mail_entry.place(x= 60, y= 160)\n",
    "\n",
    "    şifre = tk.Label(text= \"şifre:\", fg= \"black\", bg= \"blue\", font= \"Times 10 bold\")\n",
    "    şifre.place(x= 10, y= 190)\n",
    "\n",
    "    şifre_entry = tk.Entry(show= \"*\")\n",
    "    şifre_entry.place(x= 60, y= 190)\n",
    "\n",
    "    kayıt_ol = tk.Button(form, text= \"Kayıt Ol\", fg= \"black\", bg= \"green\", command= kayıt)\n",
    "    kayıt_ol.place(x= 132, y= 220)\n",
    "\n",
    "def giriş():\n",
    "    mail_entry.delete(0, \"end\")\n",
    "    şifre_entry.delete(0, \"end\")\n",
    "\n",
    "kayıt_ol = tk.Button(form, text= \"Kayıt Ol\", fg= \"black\", bg= \"green\", command= kayıt)\n",
    "kayıt_ol.place(x= 132, y= 90)\n",
    "\n",
    "giriş_yap = tk.Button(form, text= \"Giriş Yap\", fg= \"black\", bg= \"green\", command= giriş)\n",
    "giriş_yap.place(x= 62, y= 90)\n",
    "\n",
    "form.mainloop()"
   ]
  },
  {
   "cell_type": "code",
   "execution_count": null,
   "metadata": {},
   "outputs": [],
   "source": []
  }
 ],
 "metadata": {
  "kernelspec": {
   "display_name": "Python 3.11.0 64-bit",
   "language": "python",
   "name": "python3"
  },
  "language_info": {
   "codemirror_mode": {
    "name": "ipython",
    "version": 3
   },
   "file_extension": ".py",
   "mimetype": "text/x-python",
   "name": "python",
   "nbconvert_exporter": "python",
   "pygments_lexer": "ipython3",
   "version": "3.11.0"
  },
  "orig_nbformat": 4,
  "vscode": {
   "interpreter": {
    "hash": "7c542dbbc07e6010b76b61de8a453dc04d29cd1fae7fbaa29851ecbad9aefb83"
   }
  }
 },
 "nbformat": 4,
 "nbformat_minor": 2
}

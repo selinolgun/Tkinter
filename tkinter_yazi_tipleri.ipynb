{
 "cells": [
  {
   "cell_type": "code",
   "execution_count": 1,
   "metadata": {},
   "outputs": [],
   "source": [
    "import tkinter as tk"
   ]
  },
  {
   "cell_type": "code",
   "execution_count": 2,
   "metadata": {},
   "outputs": [],
   "source": [
    "form = tk.Tk()\n",
    "form.title(\"Tkinter Yazı Tipleri\")\n",
    "label= tk.Label(form, text= \"Label Renklendirme\")\n",
    "label.pack()\n",
    "form.mainloop()\n",
    "\n",
    "# Daha önce öğrendiğimiz gibi penceremizi oluşturduk."
   ]
  },
  {
   "cell_type": "code",
   "execution_count": 4,
   "metadata": {},
   "outputs": [],
   "source": [
    "form = tk.Tk()\n",
    "form.title(\"Tkinter Yazı Tipleri\")\n",
    "label= tk.Label(form, text= \"Label Renklendirme\")\n",
    "label.pack()\n",
    "label2 = tk.Label(form, text= \"Font Ayarları\", fg= \"red\")\n",
    "label2.pack()\n",
    "form.mainloop()\n",
    "\n",
    "# fg= parametresi ile yazımızın rengini belirleyebiliyoruz."
   ]
  },
  {
   "cell_type": "code",
   "execution_count": 5,
   "metadata": {},
   "outputs": [],
   "source": [
    "form = tk.Tk()\n",
    "form.title(\"Tkinter Yazı Tipleri\")\n",
    "label= tk.Label(form, text= \"Label Renklendirme\")\n",
    "label.pack()\n",
    "label2 = tk.Label(form, text= \"Font Ayarları\", fg= \"red\")\n",
    "label2.pack()\n",
    "label3 = tk.Label(form, text= \"Ders 2 Arkaplan\", fg= \"black\", bg= \"green\")\n",
    "label3.pack()\n",
    "form.mainloop()\n",
    "\n",
    "# bg parametresi ile yazımızın arka planı rengini ayarlayabiliyoruz."
   ]
  },
  {
   "cell_type": "code",
   "execution_count": 6,
   "metadata": {},
   "outputs": [],
   "source": [
    "form = tk.Tk()\n",
    "form.title(\"Tkinter Yazı Tipleri\")\n",
    "label= tk.Label(form, text= \"Label Renklendirme\")\n",
    "label.pack()\n",
    "label2 = tk.Label(form, text= \"Font Ayarları\", fg= \"red\")\n",
    "label2.pack()\n",
    "label3 = tk.Label(form, text= \"Ders 2 Arkaplan\", fg= \"black\", bg= \"green\")\n",
    "label3.pack()\n",
    "label4 = tk.Label(form, text= \"Yeni Label\", fg= \"red\", bg= \"green\", font= \"Times 15 italic\")\n",
    "label4.pack()\n",
    "form.mainloop()\n",
    "\n",
    "# font parametresi ile Times fontunda 15 boyutunda italic bir yazı yazdırmış olduk."
   ]
  },
  {
   "cell_type": "code",
   "execution_count": 8,
   "metadata": {},
   "outputs": [],
   "source": [
    "form = tk.Tk()\n",
    "form.title(\"Tkinter Yazı Tipleri\")\n",
    "label= tk.Label(form, text= \"Label Renklendirme\")\n",
    "label.pack()\n",
    "label2 = tk.Label(form, text= \"Font Ayarları\", fg= \"red\")\n",
    "label2.pack()\n",
    "label3 = tk.Label(form, text= \"Ders 2 Arkaplan\", fg= \"black\", bg= \"green\")\n",
    "label3.pack()\n",
    "label4 = tk.Label(form, text= \"Yeni Label\", fg= \"red\", bg= \"green\", font= \"Times 15 italic\")\n",
    "label4.pack()\n",
    "label5 = tk.Label(form, text= \"En Son Label\", fg= \"green\", bg= \"red\", font= \"Times 17 bold\")\n",
    "label5.pack()\n",
    "form.mainloop()\n",
    "\n",
    "# Bu seferde italic yazı tipi yerine bold şeklinde yazdırdık."
   ]
  },
  {
   "cell_type": "code",
   "execution_count": null,
   "metadata": {},
   "outputs": [],
   "source": []
  }
 ],
 "metadata": {
  "kernelspec": {
   "display_name": "Python 3.11.0 64-bit",
   "language": "python",
   "name": "python3"
  },
  "language_info": {
   "codemirror_mode": {
    "name": "ipython",
    "version": 3
   },
   "file_extension": ".py",
   "mimetype": "text/x-python",
   "name": "python",
   "nbconvert_exporter": "python",
   "pygments_lexer": "ipython3",
   "version": "3.11.0"
  },
  "orig_nbformat": 4,
  "vscode": {
   "interpreter": {
    "hash": "7c542dbbc07e6010b76b61de8a453dc04d29cd1fae7fbaa29851ecbad9aefb83"
   }
  }
 },
 "nbformat": 4,
 "nbformat_minor": 2
}

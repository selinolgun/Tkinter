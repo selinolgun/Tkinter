{
 "cells": [
  {
   "cell_type": "code",
   "execution_count": 1,
   "metadata": {},
   "outputs": [],
   "source": [
    "import tkinter as tk"
   ]
  },
  {
   "cell_type": "code",
   "execution_count": 2,
   "metadata": {},
   "outputs": [],
   "source": [
    "form = tk.Tk()\n",
    "form.title(\"Radio Button\")\n",
    "form.geometry(\"500x450\")\n",
    "\n",
    "def kontrol():\n",
    "    pass\n",
    "\n",
    "button = tk.Button(form, text= \"Tıkla\", fg= \"black\", bg= \"yellow\", activebackground= \"green\", command= kontrol)\n",
    "button.pack()\n",
    "\n",
    "form.mainloop()\n",
    "\n",
    "# Radio Button kullanabilmemiz için öncelikle bir button oluşturmamız gerekti.\n",
    "# Burada farklı bir parametre kullandık activebackground= diye.\n",
    "# Bu parametre butona tıklandığında backgroundunun sarıdan yeşile dönmesini sağlıyor."
   ]
  },
  {
   "cell_type": "code",
   "execution_count": 9,
   "metadata": {},
   "outputs": [
    {
     "name": "stdout",
     "output_type": "stream",
     "text": [
      "Buton 2 ve Buton 1\n",
      "Buton 1\n",
      "Buton 2\n"
     ]
    }
   ],
   "source": [
    "form = tk.Tk()\n",
    "form.title(\"Radio Button\")\n",
    "form.geometry(\"500x450\")\n",
    "\n",
    "def kontrol():\n",
    "    if x.get() == \"1\":\n",
    "        print(\"Buton 1\")\n",
    "    elif x.get() == \"2\":\n",
    "        print(\"Buton 2\")\n",
    "    else:\n",
    "        print(\"Buton 2 ve Buton 1\")\n",
    "\n",
    "button = tk.Button(form, text= \"Tıkla\", fg= \"black\", bg= \"yellow\", activebackground= \"green\", command= kontrol)\n",
    "button.pack()\n",
    "\n",
    "x = tk.StringVar()\n",
    "\n",
    "radio = tk.Radiobutton(form, text= \"Radio Button 1\", activebackground= \"red\", value= \"1\", variable= x)\n",
    "radio.pack()\n",
    "\n",
    "radio2 = tk.Radiobutton(form, text= \"Radio Button 2\", activebackground= \"green\", value= \"2\", variable= x)\n",
    "radio2.pack()\n",
    "\n",
    "form.mainloop()\n",
    "\n",
    "# Radio Butonda bu şekilde oluşturuluyor.\n",
    "# Çok gerekli olmasa da bilmenizde fayda var."
   ]
  },
  {
   "cell_type": "code",
   "execution_count": null,
   "metadata": {},
   "outputs": [],
   "source": []
  }
 ],
 "metadata": {
  "kernelspec": {
   "display_name": "Python 3.11.0 64-bit",
   "language": "python",
   "name": "python3"
  },
  "language_info": {
   "codemirror_mode": {
    "name": "ipython",
    "version": 3
   },
   "file_extension": ".py",
   "mimetype": "text/x-python",
   "name": "python",
   "nbconvert_exporter": "python",
   "pygments_lexer": "ipython3",
   "version": "3.11.0"
  },
  "orig_nbformat": 4,
  "vscode": {
   "interpreter": {
    "hash": "7c542dbbc07e6010b76b61de8a453dc04d29cd1fae7fbaa29851ecbad9aefb83"
   }
  }
 },
 "nbformat": 4,
 "nbformat_minor": 2
}

{
 "cells": [
  {
   "cell_type": "code",
   "execution_count": 1,
   "metadata": {},
   "outputs": [],
   "source": [
    "import tkinter as tk"
   ]
  },
  {
   "cell_type": "code",
   "execution_count": 2,
   "metadata": {},
   "outputs": [],
   "source": [
    "form = tk.Tk()\n",
    "form.title(\"Entry'den Veri Çekmek ve Silmek\")\n",
    "form.geometry(\"500x300\")\n",
    "\n",
    "entry = tk.Entry()\n",
    "entry.pack()\n",
    "\n",
    "etiket = tk.Label(text= \"Verilerin Buraya Girilmesi Lazım.\")\n",
    "etiket.pack()\n",
    "\n",
    "def verial():\n",
    "    etiket[\"text\"] = entry.get()\n",
    "\n",
    "button = tk.Button(text= \"Verileri Al\", fg= \"red\", bg= \"green\", command= verial)\n",
    "button.pack()\n",
    "\n",
    "form.mainloop()\n",
    "\n",
    "# Verileri get() methoduyla bu şekilde alabilirsiniz."
   ]
  },
  {
   "cell_type": "code",
   "execution_count": 4,
   "metadata": {},
   "outputs": [],
   "source": [
    "form = tk.Tk()\n",
    "form.title(\"Entry'den Veri Çekmek ve Silmek\")\n",
    "form.geometry(\"500x300\")\n",
    "\n",
    "entry = tk.Entry()\n",
    "entry.pack()\n",
    "\n",
    "etiket = tk.Label(text= \"Verilerin Buraya Girilmesi Lazım.\")\n",
    "etiket.pack()\n",
    "\n",
    "def verial():\n",
    "    etiket[\"text\"] = entry.get()\n",
    "\n",
    "def verisil():\n",
    "    entry.delete(0, \"end\")\n",
    "\n",
    "buttonsil = tk.Button(text= \"Verileri Sil\", fg= \"red\", bg= \"green\", command= verisil)\n",
    "buttonsil.pack()\n",
    "\n",
    "button = tk.Button(text= \"Verileri Al\", fg= \"red\", bg= \"green\", command= verial)\n",
    "button.pack()\n",
    "\n",
    "form.mainloop()\n",
    "\n",
    "# Bu seferde girdiğimiz verileri delete() methoduyla temizleyebiliyoruz.\n",
    "# Anladığınız üzere yapacağımız işlemi her zaman bir fonksiyonu dönüştürüyoruz.\n",
    "# ve command= parametresiyle işlev olarak ekliyoruz."
   ]
  },
  {
   "cell_type": "code",
   "execution_count": 5,
   "metadata": {},
   "outputs": [],
   "source": [
    "form = tk.Tk()\n",
    "form.title(\"Entry'den Veri Çekmek ve Silmek\")\n",
    "form.geometry(\"500x300\")\n",
    "\n",
    "entry = tk.Entry()\n",
    "entry.pack()\n",
    "\n",
    "etiket = tk.Label(text= \"Verilerin Buraya Girilmesi Lazım.\")\n",
    "etiket.pack()\n",
    "\n",
    "def verial():\n",
    "    etiket[\"text\"] = entry.get()\n",
    "\n",
    "def verisil():\n",
    "    entry.delete(0, \"end\")\n",
    "\n",
    "entry2 = tk.Entry(show= \"*\")\n",
    "entry2.pack()\n",
    "\n",
    "buttonsil = tk.Button(text= \"Verileri Sil\", fg= \"red\", bg= \"green\", command= verisil)\n",
    "buttonsil.pack()\n",
    "\n",
    "button = tk.Button(text= \"Verileri Al\", fg= \"red\", bg= \"green\", command= verial)\n",
    "button.pack()\n",
    "\n",
    "form.mainloop()\n",
    "\n",
    "# Şifre gibi görünmesini istemeyeceğimiz bir yazı girdiğimizde yazının görünmemesi için\n",
    "# Entry'i oluştururken show= parametresi giriyoruz.\n",
    "# show= parametresinin karşısına \"\" içine ne girersek\n",
    "# O entrye yazı girdiğimizde yazdıklarımızın görünmesi yerine \"\" içine girdiğimiz karakter görünüyor."
   ]
  },
  {
   "cell_type": "code",
   "execution_count": null,
   "metadata": {},
   "outputs": [],
   "source": []
  }
 ],
 "metadata": {
  "kernelspec": {
   "display_name": "Python 3.11.0 64-bit",
   "language": "python",
   "name": "python3"
  },
  "language_info": {
   "codemirror_mode": {
    "name": "ipython",
    "version": 3
   },
   "file_extension": ".py",
   "mimetype": "text/x-python",
   "name": "python",
   "nbconvert_exporter": "python",
   "pygments_lexer": "ipython3",
   "version": "3.11.0"
  },
  "orig_nbformat": 4,
  "vscode": {
   "interpreter": {
    "hash": "7c542dbbc07e6010b76b61de8a453dc04d29cd1fae7fbaa29851ecbad9aefb83"
   }
  }
 },
 "nbformat": 4,
 "nbformat_minor": 2
}
